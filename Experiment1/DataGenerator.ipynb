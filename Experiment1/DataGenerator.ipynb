{
 "cells": [
  {
   "cell_type": "markdown",
   "metadata": {},
   "source": [
    "# Initialization"
   ]
  },
  {
   "cell_type": "code",
   "execution_count": 1,
   "metadata": {},
   "outputs": [],
   "source": [
    "import numpy as np # linear algebra\n",
    "import pandas as pd # data processing, CSV file I/O (e.g. pd.read_csv)\n",
    "import json\n",
    "from numpy.random import randn\n",
    "import matplotlib.pyplot as plt\n",
    "from scipy.integrate import odeint"
   ]
  },
  {
   "cell_type": "code",
   "execution_count": 2,
   "metadata": {},
   "outputs": [],
   "source": [
    "# Set a seed for reproducibility\n",
    "seed_value = 41\n",
    "np.random.seed(seed_value)"
   ]
  },
  {
   "cell_type": "markdown",
   "metadata": {},
   "source": [
    "# Reality ODE\n",
    "We will have 4 realities to test :\n",
    "1. Reality 1: $\\frac{u_\\epsilon}{dt} = - u_\\epsilon cos(2\\pi \\frac{t}{\\epsilon})$ Identical to the assimilation Model.\n",
    "1. Reality 2: $\\frac{u_\\epsilon}{dt} = - u_\\epsilon cos(2\\pi \\frac{t}{\\epsilon})+0.1sin(2\\pi t)$ .\n",
    "1. Reality 3: $\\frac{u_\\epsilon}{dt} = - \\frac{u_\\epsilon}{\\sqrt{\\epsilon}} cos(2\\pi \\frac{t}{\\epsilon})$ Not homogenized yet .\n",
    "1. Reality 4: $\\frac{u_\\epsilon}{dt} = - \\frac{u_\\epsilon}{\\epsilon} cos(2\\pi \\frac{t}{\\epsilon})$.\n",
    "1. Reality 5: $\\frac{u_\\epsilon}{dt} = - u_\\epsilon cos((2\\pi+\\epsilon cos(10t)) \\frac{t}{\\epsilon})$\n",
    "# ODE Solution\n",
    "The solutions to the previosuly mentioned problems are :\n",
    "1. Reality 1: $u_\\epsilon = e^{- \\epsilon \\frac{sin(2\\pi \\frac{t}{\\epsilon})}{2 \\pi}}$.\n",
    "1. Reality 2: /.\n",
    "1. Reality 3: $u_\\epsilon= e^{\\frac{-\\sqrt{\\epsilon}}{2\\pi} sin(2 \\pi \\frac{t}{\\epsilon})} \\quad u_0(t)=1$.\n",
    "1. Reality 4: $u_\\epsilon= e^{\\frac{-1}{2\\pi} sin(2 \\pi \\frac{t}{\\epsilon})} \\quad u_0(t)=1$.\n",
    "\n",
    "\n"
   ]
  },
  {
   "cell_type": "markdown",
   "metadata": {},
   "source": [
    "# Parameters\n",
    "$\\begin{cases}\n",
    "\\epsilon = 1/360\\\\\n",
    "w = 60s\\\\\n",
    "T = 15 hours\\\\\n",
    "\\Delta t=30minutes\\\\\n",
    "\\Delta t_\\epsilon=10^{-3}seconds\\\\\n",
    "h = \\frac{10s}{\\Delta t_\\epsilon}\\\\\n",
    "\\mu_0,\\sigma_0=0,0.01\\\\\n",
    "\\end{cases}$"
   ]
  },
  {
   "cell_type": "markdown",
   "metadata": {},
   "source": [
    "## Reality 1\n"
   ]
  },
  {
   "cell_type": "code",
   "execution_count": 3,
   "metadata": {},
   "outputs": [],
   "source": [
    "def ue1(t,eps):\n",
    "    return 1.0- (eps*np.sin(2.0*np.pi*t/eps))/(2.0*np.pi)\n",
    "def u01(t):\n",
    "    return 1.0"
   ]
  },
  {
   "cell_type": "markdown",
   "metadata": {},
   "source": [
    "## Reality 2"
   ]
  },
  {
   "cell_type": "code",
   "execution_count": 4,
   "metadata": {},
   "outputs": [],
   "source": [
    "def ode2(x,t,eps):\n",
    "    return -x*np.cos(2*np.pi*t/eps)+0.1*np.sin(2*np.pi*t)"
   ]
  },
  {
   "cell_type": "markdown",
   "metadata": {},
   "source": [
    "## Reality 3 "
   ]
  },
  {
   "cell_type": "code",
   "execution_count": 5,
   "metadata": {},
   "outputs": [],
   "source": [
    "def ue3(t,eps):\n",
    "    return np.exp(- ((np.sqrt(eps)*np.sin(2.0*np.pi*t/eps))/(2.0*np.pi)))\n",
    "def u03(t):\n",
    "    return 1.0"
   ]
  },
  {
   "cell_type": "markdown",
   "metadata": {},
   "source": [
    "## Reality 4"
   ]
  },
  {
   "cell_type": "code",
   "execution_count": 6,
   "metadata": {},
   "outputs": [],
   "source": [
    "def ue4(t,eps):\n",
    "    return np.exp(- ((np.sin(2.0*np.pi*t/eps))/(2.0*np.pi)))\n",
    "def u04(t):\n",
    "    return 1.0"
   ]
  },
  {
   "cell_type": "markdown",
   "metadata": {},
   "source": [
    "# Data Generation\n",
    "\n",
    "I begin by creating a dataframe containing the generated values across a period of 15 hours where the data is generated each 0.001 seconds meaning $\\Delta t=0.001$ ."
   ]
  },
  {
   "cell_type": "code",
   "execution_count": 7,
   "metadata": {},
   "outputs": [],
   "source": [
    "def genData(ue,u0,eps,h,step):\n",
    "    v=[]\n",
    "    for i in range(1,h*3600):\n",
    "        for j in range(int(1/step)):\n",
    "            v.append([i+step*j,u0(i+step*j),ue(i+step*j,eps)])\n",
    "\n",
    "    arr= np.array(v)\n",
    "    df = pd.DataFrame(arr)\n",
    "    df.columns = ['X','Y0','Ye']\n",
    "    return df"
   ]
  },
  {
   "cell_type": "markdown",
   "metadata": {},
   "source": [
    "## Rolling average generator"
   ]
  },
  {
   "cell_type": "code",
   "execution_count": 8,
   "metadata": {},
   "outputs": [],
   "source": [
    "#Data generator using moving averag for u0\n",
    "def genDatawithMean(ue,window,eps,h,step):\n",
    "    v=[]\n",
    "    for i in range(1,h*3600+101):\n",
    "        for j in range(int(1/step)):\n",
    "            v.append([i+step*j,ue(i+step*j,eps)])\n",
    "\n",
    "    arr= np.array(v)\n",
    "    df = pd.DataFrame(arr)\n",
    "    df.columns = ['X','Ye']\n",
    "    df['Y0'] = df['Ye'].rolling(window=window*(int(1/step))).mean()\n",
    "    return df"
   ]
  },
  {
   "cell_type": "code",
   "execution_count": 9,
   "metadata": {},
   "outputs": [],
   "source": [
    "#Data generator using moving averag for u0\n",
    "def genDatawithMeanODE(ue,x0,window,eps,h,step,l):\n",
    "        # Initial condition\n",
    "    t = np.linspace(0,h*3600,l)\n",
    "    # Solve the ODE\n",
    "    solution = odeint(ue, x0, t, args=(eps,))\n",
    "    solution = solution.flatten()  # Flatten the solution array\n",
    "\n",
    "    # Calculate the rolling average\n",
    "    window_size = window  # Window size for rolling average\n",
    "    rolling_avg = pd.Series(solution).rolling(window=window_size).mean().fillna(1)\n",
    "\n",
    "    # Create a pandas DataFrame\n",
    "    df = pd.DataFrame({\n",
    "        'X': t,\n",
    "        'Ye': solution,\n",
    "        'Y0': rolling_avg\n",
    "    })\n",
    "\n",
    "    return df"
   ]
  },
  {
   "cell_type": "markdown",
   "metadata": {},
   "source": [
    "## Data Noising\n",
    "This function adds Gaussian white noise to the macroscopic data $N(\\mu,\\sigma)$"
   ]
  },
  {
   "cell_type": "code",
   "execution_count": 10,
   "metadata": {},
   "outputs": [],
   "source": [
    "def genNoiseData(df,gaussian_noise):\n",
    "    # Add Gaussian noise to the 'y' column\n",
    "    df['Y0']=df['Y0'].add(gaussian_noise) "
   ]
  },
  {
   "cell_type": "markdown",
   "metadata": {},
   "source": [
    "## Data Points\n",
    "we take the macroscopic data at each half an hour  and the microscopic at each half an hour plus 10 seconds"
   ]
  },
  {
   "cell_type": "code",
   "execution_count": 11,
   "metadata": {},
   "outputs": [],
   "source": [
    "def interval(df,macrostep,microstep):\n",
    "    \n",
    "    vals=[]\n",
    "    # Define the interval in seconds (30 minutes)\n",
    "    interval_seconds = macrostep * 60\n",
    "\n",
    "    # Initialize the starting time\n",
    "    current_time = 0\n",
    "\n",
    "    while current_time < df['X'].max():\n",
    "\n",
    "        # Find the index where 'X' is greater than or equal to the current_time\n",
    "        index = df[df['X'] >= current_time].index[0]\n",
    "\n",
    "        # Extract the 'Y' value at the current index\n",
    "        current_y = df.at[index, 'Ye']\n",
    "\n",
    "        # Extract the 'Z' value at the current index\n",
    "        current_z = df.at[index, 'Y0']\n",
    "        \n",
    "\n",
    "        # Extract the next 100 values of 'Y' from the current index\n",
    "        next_microsteps_y = df.loc[index:index + (microstep-1), 'Ye'].tolist()\n",
    "\n",
    "        vals.append([current_z,next_microsteps_y])\n",
    "\n",
    "\n",
    "        # Update the current time to the next interval\n",
    "        current_time += interval_seconds\n",
    "    vals = vals[1:]\n",
    "    return vals"
   ]
  },
  {
   "cell_type": "markdown",
   "metadata": {},
   "source": [
    "# JSON"
   ]
  },
  {
   "cell_type": "code",
   "execution_count": 12,
   "metadata": {},
   "outputs": [],
   "source": [
    "def tojson(vals,name):\n",
    "    file_path = name\n",
    "    # Write the data to a JSON file\n",
    "    with open(file_path, \"w\") as json_file:\n",
    "        json.dump(vals, json_file)\n",
    "\n",
    "    print(f\"Data has been saved to {file_path}\")\n"
   ]
  },
  {
   "cell_type": "markdown",
   "metadata": {},
   "source": [
    "# Plotting"
   ]
  },
  {
   "cell_type": "code",
   "execution_count": 2,
   "metadata": {},
   "outputs": [],
   "source": [
    "def showfunction(df,x1,x2,title):\n",
    "    plt.plot(df['X'], df['Ye'], label='Xɛ',color='red')\n",
    "    plt.plot(df['X'], df['Y0'], label='X0')\n",
    "    # Set axis labels and a title\n",
    "    plt.title(title)\n",
    "    # Set axis labels and a title\n",
    "    plt.xlabel('Time (seconds)')\n",
    "    plt.legend()\n",
    "    plt.xlim(x1, x2)\n",
    "\n",
    "    # Show the plot\n",
    "    plt.show()"
   ]
  },
  {
   "cell_type": "markdown",
   "metadata": {},
   "source": [
    "# Initialization"
   ]
  },
  {
   "cell_type": "code",
   "execution_count": 14,
   "metadata": {},
   "outputs": [],
   "source": [
    "# Micro structure ratio\n",
    "eps=1/360\n",
    "\n",
    "# Number of Hours for generation\n",
    "h=15\n",
    "\n",
    "#time step\n",
    "step=0.001\n",
    "\n",
    "# Macroscopic noise\n",
    "mu,sigma=0,0.01\n",
    "\n",
    "#Macroscopic captured data step in minutes\n",
    "macrostep=30\n",
    "\n",
    "# Number of captured  microscopic steps in 10 seconds per macroscpic value\n",
    "microstep=10/step"
   ]
  },
  {
   "cell_type": "markdown",
   "metadata": {},
   "source": [
    "# Generation "
   ]
  },
  {
   "cell_type": "code",
   "execution_count": 15,
   "metadata": {},
   "outputs": [
    {
     "name": "stdout",
     "output_type": "stream",
     "text": [
      "Data has been saved to GenData/True/Data_Model1\n",
      "Data has been saved to GenData/True/Data_Model2\n",
      "Data has been saved to GenData/True/Data_Model3\n",
      "Data has been saved to GenData/True/Data_Model4\n"
     ]
    },
    {
     "data": {
      "image/png": "[encoded data removed]",
      "text/plain": [
       "<Figure size 640x480 with 1 Axes>"
      ]
     },
     "metadata": {},
     "output_type": "display_data"
    },
    {
     "data": {
      "image/png": "[encoded data removed]",
      "text/plain": [
       "<Figure size 640x480 with 1 Axes>"
      ]
     },
     "metadata": {},
     "output_type": "display_data"
    }
   ],
   "source": [
    "\n",
    "#window=1min\n",
    "w=60\n",
    "\n",
    "#Generating clean data\n",
    "df1=genData(ue1,u01,eps,h,step)\n",
    "#df2=genData(ue2,u02,eps,h,step)\n",
    "df2=genDatawithMeanODE(ode2,1,60,eps,h,step,len(df1))\n",
    "df3=genData(ue3,u03,eps,h,step)\n",
    "df4=genData(ue4,u04,eps,h,step)\n",
    "\n",
    "#Taking measurements\n",
    "vals1=interval(df1,macrostep,microstep)\n",
    "vals2=interval(df2,macrostep,microstep)\n",
    "vals3=interval(df3,macrostep,microstep)\n",
    "vals4=interval(df4,macrostep,microstep)\n",
    "\n",
    "# Saving results in JSON\n",
    "tojson(vals1,\"GenData/True/Data_Model1\")\n",
    "tojson(vals2,\"GenData/True/Data_Model2\")\n",
    "tojson(vals3,\"GenData/True/Data_Model3\")\n",
    "tojson(vals4,\"GenData/True/Data_Model4\")\n",
    "\n",
    "#Adding noise to data\n",
    "gaussian_noise = np.random.normal(mu, sigma, len(df1))\n",
    "\n",
    "df1_noised=df1.copy()\n",
    "genNoiseData(df1_noised,gaussian_noise)\n",
    "df2_noised=df2.copy()\n",
    "genNoiseData(df2_noised,gaussian_noise)\n",
    "df3_noised=df3.copy()\n",
    "genNoiseData(df3_noised,gaussian_noise)\n",
    "df4_noised=df4.copy()\n",
    "genNoiseData(df4_noised,gaussian_noise)\n",
    "\n",
    "\n",
    "showfunction(df1_noised,10,10.04,\"Model 1\")\n",
    "showfunction(df2_noised,10,20,\"Model 2\")\n",
    "showfunction(df3_noised,10,10.04,\"Model 3\")\n",
    "showfunction(df4_noised,10,10.04,\"Model 4\")\n",
    "\n",
    "#Taking measurements\n",
    "vals1=interval(df1_noised,macrostep,microstep)\n",
    "vals2=interval(df2_noised,macrostep,microstep)\n",
    "vals3=interval(df3_noised,macrostep,microstep)\n",
    "vals4=interval(df4_noised,macrostep,microstep)\n",
    "\n",
    "# Saving results in JSON\n",
    "tojson(vals1,\"GenData/Noised/Data_Model1\")\n",
    "tojson(vals2,\"GenData/Noised/Data_Model2\")\n",
    "tojson(vals3,\"GenData/Noised/Data_Model3\")\n",
    "tojson(vals4,\"GenData/Noised/Data_Model4\")"
   ]
  },
  {
   "cell_type": "code",
   "execution_count": 35,
   "metadata": {},
   "outputs": [
    {
     "name": "stdout",
     "output_type": "stream",
     "text": [
      "53999000\n"
     ]
    }
   ],
   "source": [
    "print(len(df1))"
   ]
  },
  {
   "cell_type": "markdown",
   "metadata": {},
   "source": []
  }
 ],
 "metadata": {
  "kernelspec": {
   "display_name": "Python 3",
   "language": "python",
   "name": "python3"
  },
  "language_info": {
   "codemirror_mode": {
    "name": "ipython",
    "version": 3
   },
   "file_extension": ".py",
   "mimetype": "text/x-python",
   "name": "python",
   "nbconvert_exporter": "python",
   "pygments_lexer": "ipython3",
   "version": "3.9.4"
  }
 },
 "nbformat": 4,
 "nbformat_minor": 2
}

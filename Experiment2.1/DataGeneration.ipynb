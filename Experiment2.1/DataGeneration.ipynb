{
 "cells": [
  {
   "cell_type": "code",
   "execution_count": 1,
   "metadata": {},
   "outputs": [],
   "source": [
    "import numpy as np # linear algebra\n",
    "import pandas as pd # data processing, CSV file I/O (e.g. pd.read_csv)\n",
    "import json\n",
    "from scipy.integrate import odeint\n",
    "import Global as gl"
   ]
  },
  {
   "cell_type": "code",
   "execution_count": 2,
   "metadata": {},
   "outputs": [],
   "source": [
    "# Set a seed for reproducibility\n",
    "np.random.seed(gl.seed_value)\n",
    "model_name = gl.model_name"
   ]
  },
  {
   "cell_type": "markdown",
   "metadata": {},
   "source": [
    "# Reality ODE\n",
    "We will have 4D reality to test :\n",
    "\n",
    "$\\frac{dX^\\epsilon}{dt} = \\begin{pmatrix} \\frac{dV^\\epsilon}{dt} \\\\ \\\\ \\frac{dW^\\epsilon}{dt} \\end{pmatrix} $\n",
    "\n",
    "\n",
    "$X^{\\epsilon}(0) = x = [x_1,x_2,x_3,x_4]^T$\n",
    "\n",
    "$\\frac{dX^\\epsilon}{dt} =A_1X^\\epsilon +tanh(||A_3X^\\epsilon||_2)A_2 + \\frac{1}{\\epsilon} B X^\\epsilon$\n",
    "\n",
    "$ A_1=\\begin{pmatrix}\n",
    "    0 & 0 & 0 & 0\\\\\n",
    "    0 & 0 & 0 & 0\\\\\n",
    "    1 & 0 & 0 & 0\\\\\n",
    "    0 & 1 & 0 & 0\\\\\n",
    "\\end{pmatrix} \\quad A_2=\\begin{pmatrix}\n",
    "    1 \\\\ 0 \\\\ 0 \\\\0 \n",
    "\\end{pmatrix} A_3=\\begin{pmatrix}\n",
    "    0 & 0 & 1 & 0\\\\\n",
    "    0 & 0 & 0 & 1\\\\\n",
    "    0 & 0 & 0 & 0\\\\\n",
    "    0 & 0 & 0 & 0\\\\\n",
    "\\end{pmatrix} \\quad B=\\begin{pmatrix}\n",
    "    0 & -1 & 0 & 0\\\\\n",
    "    1 & 0 & 0 & 0\\\\\n",
    "    0 & 0 & 0 & 0\\\\\n",
    "    0 & 0 & 0 & 0\\\\  \n",
    "\\end{pmatrix}$\n",
    "\n",
    "# System \n",
    "In terms of discrete dynamical system formulation we have :\n",
    "\n",
    "$\\begin{pmatrix}\n",
    "    V_1^{\\epsilon}\\\\ \\\\ V_2^{\\epsilon}\\\\ \\\\ X_1^{\\epsilon}\\\\ \\\\X_2^{\\epsilon}\n",
    "\\end{pmatrix}  = \n",
    "\\begin{pmatrix}\n",
    " tanh(\\sqrt{(X_1^{\\epsilon})^2+(X_2^{\\epsilon})^2})-\\frac{1}{\\epsilon}V_2^{\\epsilon}  \\\\ \\\\  \\frac{1}{\\epsilon}V_1^{\\epsilon}\\\\ \\\\  V_1^{\\epsilon}\\\\ \\\\ V_2^{\\epsilon}\n",
    "\\end{pmatrix} $\n",
    "\n",
    "# ODE Analytical Solution\n",
    "The solution to the previosuly mentioned problem is :\n",
    "\n",
    "$X^{\\epsilon}(t,\\tau) =   \\begin{pmatrix}\n",
    "    x_1 \\cos(\\tau) - x_2 sin(\\tau) +\\epsilon tanh(\\sqrt{x_3^2+x_4^2}) sin(\\tau)+?\\\\ \\\\\n",
    "    x_1 sin(\\tau) + x_2 \\cos(\\tau) +\\epsilon tanh(\\sqrt{x_3^2+x_4^2})(1-cos(\\tau))+?\\\\ \\\\\n",
    "    \\epsilon x_1 sin(\\tau)+\\epsilon x_2(cos(\\tau)-1)+ x_3 + \\epsilon^2tanh(\\sqrt{x_3^2+x_4^2})(1-cos(\\tau))\\\\ \\\\\n",
    "    \\epsilon x1(1-cos(\\tau)) +\\epsilon x_2sin(\\tau) +x_4-\\epsilon^2 tanh(\\sqrt{x_3^2+x_4^2})sin(\\tau) +\\epsilon   tanh(\\sqrt{x_3^2+x_4^2}) t\n",
    "\\end{pmatrix} $\n",
    "\n",
    "# ODE Two scale expansion\n",
    "The expansion to the previosuly mentioned problem is :\n",
    "\n",
    "$X^\\epsilon(t,\\tau)= X^0(t,\\tau)+\\epsilon X^1(t,\\tau)+\\epsilon^2 X^2(t,\\tau)...$\n",
    "\n",
    "$\\begin{pmatrix}\n",
    "    V^\\epsilon_1\\\\ \\\\\n",
    "    V^\\epsilon_2\\\\ \\\\ \n",
    "    W^\\epsilon_1\\\\ \\\\\n",
    "    W^\\epsilon_2\\\\ \\\\\n",
    "\\end{pmatrix} = \\begin{pmatrix}\n",
    "    x_1 \\cos(\\tau) - x_2 sin(\\tau)\\\\ \\\\\n",
    "    x_1 sin(\\tau) + x_2 \\cos(\\tau)\\\\ \\\\\n",
    "    x_3\\\\ \\\\\n",
    "    x_4\\\\ \\\\\n",
    "\\end{pmatrix} + \\epsilon \\begin{pmatrix}\n",
    "    tanh(\\sqrt{x_3^2+x_4^2})sin(\\tau)\\\\ \\\\\n",
    "    tanh(\\sqrt{x_3^2+x_4^2})(1-cos(\\tau))\\\\ \\\\\n",
    "    x_1 sin(\\tau)+x_2(cos(\\tau)-1)\\\\ \\\\\n",
    "    x1(1-cos(\\tau)) +x_2sin(\\tau) \n",
    "\\end{pmatrix}+ \\\\ \\\\ \\epsilon^2 \\begin{pmatrix}\n",
    "        ? \\\\ \\\\ ? \\\\ \\\\ tanh(\\sqrt{x_3^2+x_4^2})(1-cos(\\tau)) \\\\ \\\\ tanh(\\sqrt{x_3^2+x_4^2})(\\tau -sin(\\tau))\n",
    "    \\end{pmatrix}$\n",
    "\n",
    "## True macroscopic system \n",
    "\n",
    "$Y^0(t)=\\begin{pmatrix}\n",
    "x_1 \\\\ \\\\\n",
    "x_2  \\\\ \\\\\n",
    "x_3 \\\\ \\\\\n",
    "x_4\n",
    "\\end{pmatrix} \\quad X^0(t,\\tau) = \\begin{pmatrix}\n",
    "cos(\\tau) & -sin(\\tau) & 0 & 0\\\\ \\\\\n",
    "sin(\\tau) & cos(\\tau)  & 0 & 0\\\\ \\\\\n",
    "0 & 0  & 1 & 0\\\\ \\\\\n",
    "0 & 0  & 0 & 1\\\\ \\\\\n",
    "\\end{pmatrix}\\begin{pmatrix}\n",
    "x_1 \\\\ \\\\\n",
    "x_2  \\\\ \\\\\n",
    "x_3 \\\\ \\\\\n",
    "x_4\n",
    "\\end{pmatrix}$\n",
    "\n",
    "\n",
    "\n",
    "\n"
   ]
  },
  {
   "cell_type": "markdown",
   "metadata": {},
   "source": [
    "# Parameters\n",
    "$\\begin{cases}\n",
    "\\epsilon = 1/50\\\\\n",
    "w = 60s\\\\\n",
    "T = 15 hours\\\\\n",
    "\\Delta t=30minutes\\\\\n",
    "\\Delta t_\\epsilon=10^{-2}seconds\\\\\n",
    "h = \\frac{1s}{\\Delta t_\\epsilon}\\\\\n",
    "\\mu_0,\\sigma_0=0,0.01\\\\\n",
    "\\end{cases}$"
   ]
  },
  {
   "cell_type": "markdown",
   "metadata": {},
   "source": [
    "## Reality \n"
   ]
  },
  {
   "cell_type": "code",
   "execution_count": 3,
   "metadata": {},
   "outputs": [],
   "source": [
    "def f(x3,x4):\n",
    "    return float(np.tanh(np.sqrt(x3**2+x4**2)))"
   ]
  },
  {
   "cell_type": "code",
   "execution_count": 4,
   "metadata": {},
   "outputs": [],
   "source": [
    "def Ue(t,eps,x1,x2,x3,x4):\n",
    "    tau = t / eps\n",
    "    result = [\n",
    "        x1 * np.cos(tau) - x2 * np.sin(tau) + eps * f(x3,x4)*np.sin(tau),\n",
    "        x1 * np.sin(tau) + x2 * np.cos(tau) + eps *f(x3,x4)* (1 - np.cos(tau)),\n",
    "        eps * x1 * np.sin(tau) + eps * x2 * (np.cos(tau) - 1) + x3 + (eps**2) *f(x3,x4)* (1 - np.cos(tau)),\n",
    "        eps * x1 * (1 - np.cos(tau)) + eps * x2 * np.sin(tau) + x4 - (eps**2) *f(x3,x4)* np.sin(tau) + eps *f(x3,x4)* t\n",
    "    ]\n",
    "    return result\n",
    "\n",
    "def U0(x1,x2,x3,x4):\n",
    "    return [x1,x2,x3,x4]\n"
   ]
  },
  {
   "cell_type": "markdown",
   "metadata": {},
   "source": [
    "# Data Generation\n",
    "\n",
    "I begin by creating a dataframe containing the generated values across a period of \"h\" hours where the data is generated each \"step\" seconds meaning $\\Delta t=step$ .\n",
    "\n",
    "* Ue the microscopic analytical solution.\n",
    "* U0 the macroscopic analytical solution.\n",
    "* eps is the microstructure ratio $\\epsilon$.\n",
    "* h number of hours.\n",
    "* step is the time step proportional to $\\epsilon$.\n",
    "* window is the rolling average time window in case we don't want to use U0.\n"
   ]
  },
  {
   "cell_type": "code",
   "execution_count": 5,
   "metadata": {},
   "outputs": [],
   "source": [
    "def genData(Ue,U0,eps,h,step,x1,x2,x3,x4):\n",
    "    #generate the microscopic data using Ue h hours each step time\n",
    "    v=[]\n",
    "    for i in range(1,h*3600+101):\n",
    "        for j in range(int(1/step)):\n",
    "            micro_state = Ue(i+step*j,eps,x1,x2,x3,x4)\n",
    "            v.append([i+step*j,micro_state[0],micro_state[1],micro_state[2],micro_state[3]])\n",
    "\n",
    "    #save results in pandas\n",
    "    arr= np.array(v)\n",
    "    df = pd.DataFrame(arr)\n",
    "    df.columns = ['t','Ve1','Ve2','Xe1','Xe2']\n",
    "\n",
    "    #generate macroscopic data using U0\n",
    "    macro_state = U0(x1,x2,x3,x4)\n",
    "    df['V01'] = macro_state[0]\n",
    "    df['V02'] = macro_state[1]\n",
    "    df['X01'] = macro_state[2]\n",
    "    df['X02'] = macro_state[3]\n",
    "    return df\n"
   ]
  },
  {
   "cell_type": "markdown",
   "metadata": {},
   "source": [
    "## Rolling average generator"
   ]
  },
  {
   "cell_type": "code",
   "execution_count": 6,
   "metadata": {},
   "outputs": [],
   "source": [
    "#Data generator using moving average with time window instead of U0 \n",
    "def genDatawithMean(Ue,x1,x2,x3,x4,window,eps,h,step):\n",
    "    v=[]\n",
    "    for i in range(1,h*3600+101):\n",
    "        for j in range(int(1/step)):\n",
    "            state = Ue(i+step*j,eps,x1,x2,x3,x4)\n",
    "            v.append([i+step*j,state[0],state[1],state[2],state[3]])\n",
    "\n",
    "    arr= np.array(v)\n",
    "    df = pd.DataFrame(arr)\n",
    "    df.columns = ['t','Ve1','Ve2','Xe1','Xe2']\n",
    "\n",
    "    #generate macroscopic values by taking a rolling mean of window time\n",
    "    df['V01'] = df['Ve1'].rolling(window=window*(int(1/step))).mean()\n",
    "    df['V02'] = df['Ve2'].rolling(window=window*(int(1/step))).mean()\n",
    "    df['X01'] = df['Xe1'].rolling(window=window*(int(1/step))).mean()\n",
    "    df['X02'] = df['Xe2'].rolling(window=window*(int(1/step))).mean()\n",
    "    return df"
   ]
  },
  {
   "cell_type": "markdown",
   "metadata": {},
   "source": [
    "## ODE Solver Generator"
   ]
  },
  {
   "cell_type": "code",
   "execution_count": 7,
   "metadata": {},
   "outputs": [],
   "source": [
    "# Define the system of ODEs\n",
    "def ode_system(y, t, eps):\n",
    "    V1, V2, X1, X2 = y\n",
    "    dV1_dt = np.tanh(np.sqrt(X1**2 + X2**2)) - V2 / eps\n",
    "    dV2_dt = V1 / eps\n",
    "    dX1_dt = V1\n",
    "    dX2_dt = V2\n",
    "    return [dV1_dt, dV2_dt, dX1_dt, dX2_dt]\n",
    "\n",
    "def genDatawithOdeSolver(Ue,x1,x2,x3,x4,window,eps,h,step):\n",
    "    v=[]\n",
    "    t = np.arange(1, h * 3600+101, step)\n",
    "    initial_conditions = [x1,x2,x3,x4]\n",
    "    # Solve the ODEs\n",
    "    solution = odeint(ode_system, initial_conditions, t, args=(eps,))\n",
    "    df = pd.DataFrame(solution, columns=['Ve1', 'Ve2', 'Xe1', 'Xe2'])\n",
    "    df['t'] = t\n",
    "\n",
    "    #generate macroscopic values by taking a rolling mean of window time\n",
    "    df['V01'] = df['Ve1'].rolling(window=window*(int(1/step))).mean()\n",
    "    df['V02'] = df['Ve2'].rolling(window=window*(int(1/step))).mean()\n",
    "    df['X01'] = df['Xe1'].rolling(window=window*(int(1/step))).mean()\n",
    "    df['X02'] = df['Xe2'].rolling(window=window*(int(1/step))).mean()\n",
    "    return df"
   ]
  },
  {
   "cell_type": "markdown",
   "metadata": {},
   "source": [
    "## Data Noising\n",
    "This function adds Gaussian white noise to the macroscopic data $N(\\mu,\\sigma)$"
   ]
  },
  {
   "cell_type": "code",
   "execution_count": 8,
   "metadata": {},
   "outputs": [],
   "source": [
    "def genNoiseData(df,gaussian_noise):\n",
    "    # Add Gaussian noise to the macroscopic data columns\n",
    "    df['V01']=df['V01'].add(gaussian_noise) \n",
    "    df['V02']=df['V02'].add(gaussian_noise) \n",
    "    df['X01']=df['X01'].add(gaussian_noise) \n",
    "    df['X02']=df['X02'].add(gaussian_noise) "
   ]
  },
  {
   "cell_type": "markdown",
   "metadata": {},
   "source": [
    "## Data Points\n",
    "At each macrostep take a single macroscopic data   and all the data coming from the next microscopic window "
   ]
  },
  {
   "cell_type": "code",
   "execution_count": 9,
   "metadata": {},
   "outputs": [],
   "source": [
    "def interval(df,macrostep,microstep):\n",
    "    \n",
    "    vals=[]\n",
    "    # Define the macroscopic interval in seconds (macrostep*60 = 30 minutes)\n",
    "    interval_seconds = macrostep * 60\n",
    "\n",
    "    # Initialize the starting time\n",
    "    current_time = 0\n",
    "\n",
    "    while current_time < df['t'].max():\n",
    "\n",
    "        # Find the index where 'X' is greater than or equal to the current_time\n",
    "        index = df[df['t'] >= current_time].index[0]\n",
    "        \n",
    "        # Extract the 'macro' value at the current index\n",
    "        current_t = df.at[index, 't']\n",
    "        print(\"index \",current_t)\n",
    "        current_v01 = float(df.at[index, 'V01'])\n",
    "        current_v02 = float(df.at[index, 'V02'])\n",
    "        current_x01 = float(df.at[index, 'X01'])\n",
    "        current_x02 = float(df.at[index, 'X02'])\n",
    "        \n",
    "\n",
    "        # Extract the next microstep values of 'the micro' from the current index\n",
    "        next_microsteps_ve1 = df.loc[index:index + (microstep-1), 'Ve1'].tolist()\n",
    "        next_microsteps_ve2 = df.loc[index:index + (microstep-1), 'Ve2'].tolist()\n",
    "        next_microsteps_xe1 = df.loc[index:index + (microstep-1), 'Xe1'].tolist()\n",
    "        next_microsteps_xe2 = df.loc[index:index + (microstep-1), 'Xe2'].tolist()\n",
    "\n",
    "        vals.append([current_t,current_v01,next_microsteps_ve1,current_v02,next_microsteps_ve2,current_x01,next_microsteps_xe1,current_x02,next_microsteps_xe2])\n",
    "\n",
    "\n",
    "        # Update the current time to the next interval\n",
    "        current_time += interval_seconds\n",
    "        \n",
    "    vals = vals[1:]\n",
    "    return vals"
   ]
  },
  {
   "cell_type": "markdown",
   "metadata": {},
   "source": [
    "# JSON"
   ]
  },
  {
   "cell_type": "code",
   "execution_count": 10,
   "metadata": {},
   "outputs": [],
   "source": [
    "def tojson(vals,name):\n",
    "    file_path = name\n",
    "    # Write the data to a JSON file\n",
    "    with open(file_path, \"w\") as json_file:\n",
    "        json.dump(vals, json_file)\n",
    "\n",
    "    print(f\"Data has been saved to {file_path}\")\n"
   ]
  },
  {
   "cell_type": "markdown",
   "metadata": {},
   "source": [
    "# Initialization"
   ]
  },
  {
   "cell_type": "code",
   "execution_count": 11,
   "metadata": {},
   "outputs": [],
   "source": [
    "# Micro structure ratio\n",
    "eps=gl.eps\n",
    "\n",
    "# Number of Hours for generation\n",
    "h=gl.h\n",
    "\n",
    "#time step in seconds\n",
    "step=gl.step\n",
    "\n",
    "# Macroscopic noise of mu mean and  sigma standard deviation \n",
    "mu,sigma=gl.mu,gl.sigma\n",
    "\n",
    "#Macroscopic step  in minutes\n",
    "macrostep=gl.macrostep\n",
    "\n",
    "# Number of captured  microscopic steps in 10 seconds per macroscpic value\n",
    "microstep=gl.microstep/gl.step"
   ]
  },
  {
   "cell_type": "markdown",
   "metadata": {},
   "source": [
    "# Generation \n",
    "## Initial Params"
   ]
  },
  {
   "cell_type": "code",
   "execution_count": 12,
   "metadata": {},
   "outputs": [],
   "source": [
    "#rolling average window in seconds =1min\n",
    "w=gl.w\n",
    "# initial state x1,x2,x3,x4\n",
    "x_0=gl.x_0"
   ]
  },
  {
   "cell_type": "markdown",
   "metadata": {},
   "source": [
    "## Full True Data"
   ]
  },
  {
   "cell_type": "code",
   "execution_count": 13,
   "metadata": {},
   "outputs": [],
   "source": [
    "#df1=genData(Ue,U0,eps,h,step,x_0[0],x_0[1],x_0[2],x_0[3])\n",
    "#df1=genDatawithMean(Ue,x_0[0],x_0[1],x_0[2],x_0[3],w,eps,h,step)\n",
    "df1=genDatawithOdeSolver(Ue,x_0[0],x_0[1],x_0[2],x_0[3],w,eps,h,step)\n",
    "df1.to_csv((\"GenData/True/Full/\"+model_name+\".csv\"), index=False)"
   ]
  },
  {
   "cell_type": "markdown",
   "metadata": {},
   "source": [
    "## True Cut Data"
   ]
  },
  {
   "cell_type": "code",
   "execution_count": 14,
   "metadata": {},
   "outputs": [
    {
     "name": "stdout",
     "output_type": "stream",
     "text": [
      "index  1.0\n",
      "index  1800.0000000000016\n",
      "index  3600.000000000003\n",
      "index  5400.000000000005\n",
      "index  7200.000000000006\n",
      "index  9000.000000000007\n",
      "index  10800.00000000001\n",
      "index  12600.000000000011\n",
      "index  14400.000000000013\n",
      "index  16200.000000000015\n",
      "index  18000.000000000015\n",
      "index  19800.00000000002\n",
      "index  21600.00000000002\n",
      "index  23400.000000000022\n",
      "index  25200.000000000022\n",
      "index  27000.000000000025\n",
      "index  28800.000000000025\n",
      "index  30600.000000000025\n",
      "index  32400.00000000003\n",
      "index  34200.00000000003\n",
      "index  36000.00000000003\n",
      "index  37800.00000000004\n",
      "index  39600.00000000004\n",
      "index  41400.00000000004\n",
      "index  43200.00000000004\n",
      "index  45000.00000000004\n",
      "index  46800.000000000044\n",
      "index  48600.000000000044\n",
      "index  50400.000000000044\n",
      "index  52200.000000000044\n",
      "index  54000.00000000005\n"
     ]
    }
   ],
   "source": [
    "#Cut True Data\n",
    "#Taking measurements at intervals\n",
    "vals1=interval(df1,macrostep,microstep)\n"
   ]
  },
  {
   "cell_type": "code",
   "execution_count": 15,
   "metadata": {},
   "outputs": [
    {
     "name": "stdout",
     "output_type": "stream",
     "text": [
      "<class 'list'>\n",
      "Data has been saved to GenData/True/Cut/4D_Tokamak.json\n"
     ]
    }
   ],
   "source": [
    "print(type(vals1[0][2]))\n",
    "# Saving clean but cut data in JSON\n",
    "tojson(vals1,(\"GenData/True/Cut/\"+model_name+\".json\"))"
   ]
  },
  {
   "cell_type": "markdown",
   "metadata": {},
   "source": [
    "## Adding noise to data"
   ]
  },
  {
   "cell_type": "code",
   "execution_count": 16,
   "metadata": {},
   "outputs": [],
   "source": [
    "gaussian_noise = np.random.normal(mu, sigma, len(df1))\n",
    "df1_noised=df1.copy()\n",
    "genNoiseData(df1_noised,gaussian_noise)"
   ]
  },
  {
   "cell_type": "markdown",
   "metadata": {},
   "source": [
    "## Noised Full Data"
   ]
  },
  {
   "cell_type": "code",
   "execution_count": 17,
   "metadata": {},
   "outputs": [],
   "source": [
    "df1_noised.to_csv((\"GenData/Noised/Full/\"+model_name+\".csv\"), index=False)"
   ]
  },
  {
   "cell_type": "markdown",
   "metadata": {},
   "source": [
    "## Noised Cut Data"
   ]
  },
  {
   "cell_type": "code",
   "execution_count": 18,
   "metadata": {},
   "outputs": [
    {
     "name": "stdout",
     "output_type": "stream",
     "text": [
      "index  1.0\n",
      "index  1800.0000000000016\n",
      "index  3600.000000000003\n",
      "index  5400.000000000005\n",
      "index  7200.000000000006\n",
      "index  9000.000000000007\n",
      "index  10800.00000000001\n",
      "index  12600.000000000011\n",
      "index  14400.000000000013\n",
      "index  16200.000000000015\n",
      "index  18000.000000000015\n",
      "index  19800.00000000002\n",
      "index  21600.00000000002\n",
      "index  23400.000000000022\n",
      "index  25200.000000000022\n",
      "index  27000.000000000025\n",
      "index  28800.000000000025\n",
      "index  30600.000000000025\n",
      "index  32400.00000000003\n",
      "index  34200.00000000003\n",
      "index  36000.00000000003\n",
      "index  37800.00000000004\n",
      "index  39600.00000000004\n",
      "index  41400.00000000004\n",
      "index  43200.00000000004\n",
      "index  45000.00000000004\n",
      "index  46800.000000000044\n",
      "index  48600.000000000044\n",
      "index  50400.000000000044\n",
      "index  52200.000000000044\n",
      "index  54000.00000000005\n",
      "Data has been saved to GenData/Noised/Cut/4D_Tokamak.json\n"
     ]
    }
   ],
   "source": [
    "#Taking measurements\n",
    "vals1=interval(df1_noised,macrostep,microstep)\n",
    "# Saving noised cut data in JSON\n",
    "tojson(vals1,(\"GenData/Noised/Cut/\"+model_name+\".json\"))\n"
   ]
  }
 ],
 "metadata": {
  "kernelspec": {
   "display_name": "Python 3",
   "language": "python",
   "name": "python3"
  },
  "language_info": {
   "codemirror_mode": {
    "name": "ipython",
    "version": 3
   },
   "file_extension": ".py",
   "mimetype": "text/x-python",
   "name": "python",
   "nbconvert_exporter": "python",
   "pygments_lexer": "ipython3",
   "version": "3.9.4"
  }
 },
 "nbformat": 4,
 "nbformat_minor": 2
}

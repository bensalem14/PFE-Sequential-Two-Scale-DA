{
 "cells": [
  {
   "cell_type": "code",
   "execution_count": 13,
   "metadata": {},
   "outputs": [],
   "source": [
    "import numpy as np # linear algebra\n",
    "import pandas as pd # data processing, CSV file I/O (e.g. pd.read_csv)\n",
    "import json\n",
    "from scipy.integrate import odeint\n",
    "import Global as gl"
   ]
  },
  {
   "cell_type": "code",
   "execution_count": 14,
   "metadata": {},
   "outputs": [
    {
     "name": "stdout",
     "output_type": "stream",
     "text": [
      "\n",
      "seed_value = 41\n",
      "eps=0.02\n",
      "h=1\n",
      "step=0.001\n",
      "mu,sigma=0,0.1\n",
      "macrostep=5\n",
      "microstep=1\n",
      "model_name = ToyModel6\n",
      "x_0 = [1]\n",
      "w=60\n"
     ]
    }
   ],
   "source": [
    "print(gl.info)"
   ]
  },
  {
   "cell_type": "code",
   "execution_count": 15,
   "metadata": {},
   "outputs": [],
   "source": [
    "# Set a seed for reproducibility\n",
    "np.random.seed(gl.seed_value)\n",
    "model_name = gl.model_name"
   ]
  },
  {
   "cell_type": "markdown",
   "metadata": {},
   "source": [
    "# Reality ODE (Data Generation model)\n",
    "We will have 1D reality to test :\n",
    "\n",
    "$\\frac{dX^\\epsilon}{dt} = -X^\\epsilon cos((2\\pi + \\epsilon cos(10t))\\frac{t}{\\epsilon}) $\n",
    "\n",
    "$X^{\\epsilon}(0) = x = 1$\n",
    "\n",
    "# Assimilation  Model:\n",
    "In terms of assimilation we will use the following model  :\n",
    "\n",
    "$\\frac{dX^\\epsilon}{dt} = -X^\\epsilon cos(2\\pi \\frac{t}{\\epsilon}) $\n",
    "\n",
    "# Analytical solution :\n",
    "\n",
    "$X^\\epsilon(t) = e^{-\\epsilon \\frac{sin(2\\pi \\frac{t}{\\epsilon})}{2\\pi}}$\n",
    "\n",
    "# Homogenization :\n",
    "\n",
    "\n",
    "$\\begin{cases}\n",
    "X^\\epsilon(t) = X^0(t)-\\epsilon \\frac{sin(2\\pi \\frac{t}{\\epsilon})}{2\\pi} = \\Phi(t,\\epsilon,A,v,X^0)\\\\\n",
    "X^0(t) = 1\n",
    "\\end{cases}$\n",
    "\n",
    "# Transition\n",
    "$\\begin{cases}\n",
    "X^\\epsilon(t) = wX^0(t)+(1-w)A-\\epsilon \\frac{sin((2\\pi+v) \\frac{t}{\\epsilon})}{2\\pi+v}\\\\\n",
    "w = \\frac{1}{2}\n",
    "\\end{cases}$\n",
    "\n",
    "\n",
    "\n",
    "\n",
    "\n"
   ]
  },
  {
   "cell_type": "markdown",
   "metadata": {},
   "source": [
    "# Parameters\n",
    "$\\begin{cases}\n",
    "\\epsilon = 1/50\\\\\n",
    "w = 60s\\\\\n",
    "T = 10 hours\\\\\n",
    "\\Delta t=30minutes\\\\\n",
    "\\Delta t_\\epsilon=10^{-3}seconds\\\\\n",
    "h = \\frac{1s}{\\Delta t_\\epsilon}\\\\\n",
    "\\mu_0,\\sigma_0=0,0.1\\\\\n",
    "\\end{cases}$"
   ]
  },
  {
   "cell_type": "markdown",
   "metadata": {},
   "source": [
    "## Reality \n"
   ]
  },
  {
   "cell_type": "markdown",
   "metadata": {},
   "source": [
    "# Data Generation\n",
    "\n",
    "I begin by creating a dataframe containing the generated values across a period of \"h\" hours where the data is generated each \"step\" seconds meaning $\\Delta t=step$ .\n",
    "\n",
    "* Ue the microscopic analytical solution.\n",
    "* U0 the macroscopic analytical solution.\n",
    "* eps is the microstructure ratio $\\epsilon$.\n",
    "* h number of hours.\n",
    "* step is the time step proportional to $\\epsilon$.\n",
    "* window is the rolling average time window in case we don't want to use U0.\n"
   ]
  },
  {
   "cell_type": "code",
   "execution_count": 16,
   "metadata": {},
   "outputs": [],
   "source": [
    "def genData(Ue,U0,eps,h,step,x1,x2,x3,x4):\n",
    "    #generate the microscopic data using Ue h hours each step time\n",
    "    v=[]\n",
    "    for i in range(1,h*3600+101):\n",
    "        for j in range(int(1/step)):\n",
    "            micro_state = Ue(i+step*j,eps,x1,x2,x3,x4)\n",
    "            v.append([i+step*j,micro_state[0],micro_state[1],micro_state[2],micro_state[3]])\n",
    "\n",
    "    #save results in pandas\n",
    "    arr= np.array(v)\n",
    "    df = pd.DataFrame(arr)\n",
    "    df.columns = ['t','Ve1','Ve2','Xe1','Xe2']\n",
    "\n",
    "    #generate macroscopic data using U0\n",
    "    macro_state = U0(x1,x2,x3,x4)\n",
    "    df['V01'] = macro_state[0]\n",
    "    df['V02'] = macro_state[1]\n",
    "    df['X01'] = macro_state[2]\n",
    "    df['X02'] = macro_state[3]\n",
    "    return df\n"
   ]
  },
  {
   "cell_type": "markdown",
   "metadata": {},
   "source": [
    "## Rolling average generator"
   ]
  },
  {
   "cell_type": "code",
   "execution_count": 17,
   "metadata": {},
   "outputs": [],
   "source": [
    "#Data generator using moving average with time window instead of U0 \n",
    "def genDatawithMean(Ue,x1,x2,x3,x4,window,eps,h,step):\n",
    "    v=[]\n",
    "    for i in range(1,h*3600+101):\n",
    "        for j in range(int(1/step)):\n",
    "            state = Ue(i+step*j,eps,x1,x2,x3,x4)\n",
    "            v.append([i+step*j,state[0],state[1],state[2],state[3]])\n",
    "\n",
    "    arr= np.array(v)\n",
    "    df = pd.DataFrame(arr)\n",
    "    df.columns = ['t','Ve1','Ve2','Xe1','Xe2']\n",
    "\n",
    "    #generate macroscopic values by taking a rolling mean of window time\n",
    "    df['V01'] = df['Ve1'].rolling(window=window*(int(1/step))).mean()\n",
    "    df['V02'] = df['Ve2'].rolling(window=window*(int(1/step))).mean()\n",
    "    df['X01'] = df['Xe1'].rolling(window=window*(int(1/step))).mean()\n",
    "    df['X02'] = df['Xe2'].rolling(window=window*(int(1/step))).mean()\n",
    "    return df"
   ]
  },
  {
   "cell_type": "markdown",
   "metadata": {},
   "source": [
    "## ODE Solver Generator"
   ]
  },
  {
   "cell_type": "code",
   "execution_count": 18,
   "metadata": {},
   "outputs": [],
   "source": [
    "# Define the system of ODEs\n",
    "def ode_system(y, t, eps):\n",
    "    X = y[0]\n",
    "    dX_dt = -X*np.cos((2*np.pi+eps*np.cos(10*t))*(t/eps))\n",
    "    return [dX_dt]\n",
    "\n",
    "def genDatawithOdeSolver(x0,window,eps,h,step):\n",
    "    v=[]\n",
    "    t = np.arange(0, h * 3600+101, step)\n",
    "    initial_conditions = x0\n",
    "    # Solve the ODEs\n",
    "    solution = odeint(ode_system, initial_conditions, t, args=(eps,))\n",
    "    df = pd.DataFrame(solution, columns=['Xe'])\n",
    "    df['t'] = t\n",
    "\n",
    "    #generate macroscopic values by taking a rolling mean of window time\n",
    "    df['X0'] = df['Xe'].rolling(window=window*(int(1/step))).mean()\n",
    "    df = df.reindex(columns=['t', 'X0', 'Xe'])\n",
    "    return df"
   ]
  },
  {
   "cell_type": "markdown",
   "metadata": {},
   "source": [
    "## Data Noising\n",
    "This function adds Gaussian white noise to the macroscopic data $N(\\mu,\\sigma)$"
   ]
  },
  {
   "cell_type": "code",
   "execution_count": 19,
   "metadata": {},
   "outputs": [],
   "source": [
    "def genNoiseData(df,gaussian_noise):\n",
    "    # Add Gaussian noise to the macroscopic data columns\n",
    "    df['X0']=df['X0'].add(gaussian_noise) \n"
   ]
  },
  {
   "cell_type": "markdown",
   "metadata": {},
   "source": [
    "## Data Points\n",
    "At each macrostep take a single macroscopic data   and all the data coming from the next microscopic window "
   ]
  },
  {
   "cell_type": "code",
   "execution_count": 20,
   "metadata": {},
   "outputs": [],
   "source": [
    "def interval(df,macrostep,microstep):\n",
    "    \n",
    "    vals=[]\n",
    "    # Define the macroscopic interval in seconds (macrostep*60 = 30 minutes)\n",
    "    interval_seconds = macrostep * 60\n",
    "\n",
    "    # Initialize the starting time\n",
    "    current_time = 0\n",
    "\n",
    "    while current_time < df['t'].max():\n",
    "\n",
    "        # Find the index where 'X' is greater than or equal to the current_time\n",
    "        index = df[df['t'] >= current_time].index[0]\n",
    "        \n",
    "        # Extract the 'macro' value at the current index\n",
    "        current_t = df.at[index, 't']\n",
    "        print(\"index \",current_t)\n",
    "        current_X0 = float(df.at[index, 'X0'])\n",
    "  \n",
    "        \n",
    "\n",
    "        # Extract the next microstep values of 'the micro' from the current index\n",
    "        next_microsteps_Xe = df.loc[index:index + (microstep-1), 'Xe'].tolist()\n",
    "\n",
    "        vals.append([current_t,current_X0,next_microsteps_Xe])\n",
    "\n",
    "\n",
    "        # Update the current time to the next interval\n",
    "        current_time += interval_seconds\n",
    "        \n",
    "    vals = vals[1:]\n",
    "    return vals"
   ]
  },
  {
   "cell_type": "markdown",
   "metadata": {},
   "source": [
    "# JSON"
   ]
  },
  {
   "cell_type": "code",
   "execution_count": 21,
   "metadata": {},
   "outputs": [],
   "source": [
    "def tojson(vals,name):\n",
    "    file_path = name\n",
    "    # Write the data to a JSON file\n",
    "    with open(file_path, \"w\") as json_file:\n",
    "        json.dump(vals, json_file)\n",
    "\n",
    "    print(f\"Data has been saved to {file_path}\")\n"
   ]
  },
  {
   "cell_type": "markdown",
   "metadata": {},
   "source": [
    "# Initialization"
   ]
  },
  {
   "cell_type": "code",
   "execution_count": 22,
   "metadata": {},
   "outputs": [],
   "source": [
    "# Micro structure ratio\n",
    "eps=gl.eps\n",
    "\n",
    "# Number of Hours for generation\n",
    "h=gl.h\n",
    "\n",
    "#time step in seconds\n",
    "step=gl.step\n",
    "\n",
    "# Macroscopic noise of mu mean and  sigma standard deviation \n",
    "mu,sigma=gl.mu,gl.sigma\n",
    "\n",
    "#Macroscopic step  in minutes\n",
    "macrostep=gl.macrostep\n",
    "\n",
    "# Number of captured  microscopic steps in 10 seconds per macroscpic value\n",
    "microstep=gl.microstep/gl.step"
   ]
  },
  {
   "cell_type": "markdown",
   "metadata": {},
   "source": [
    "# Generation \n",
    "## Initial Params"
   ]
  },
  {
   "cell_type": "code",
   "execution_count": 23,
   "metadata": {},
   "outputs": [],
   "source": [
    "#rolling average window in seconds =1min\n",
    "w=gl.w\n",
    "# initial state x1,x2,x3,x4\n",
    "x_0=gl.x_0"
   ]
  },
  {
   "cell_type": "markdown",
   "metadata": {},
   "source": [
    "## Full True Data"
   ]
  },
  {
   "cell_type": "code",
   "execution_count": 24,
   "metadata": {},
   "outputs": [],
   "source": [
    "df1=genDatawithOdeSolver(x_0,w,eps,h,step)\n",
    "df1.to_csv((\"GenData/True/Full/\"+model_name+\".csv\"), index=False)"
   ]
  },
  {
   "cell_type": "markdown",
   "metadata": {},
   "source": [
    "## True Cut Data"
   ]
  },
  {
   "cell_type": "code",
   "execution_count": 25,
   "metadata": {},
   "outputs": [
    {
     "name": "stdout",
     "output_type": "stream",
     "text": [
      "index  0.0\n",
      "index  300.0\n",
      "index  600.0\n",
      "index  900.0\n",
      "index  1200.0\n",
      "index  1500.0\n",
      "index  1800.0\n",
      "index  2100.0\n",
      "index  2400.0\n",
      "index  2700.0\n",
      "index  3000.0\n",
      "index  3300.0\n",
      "index  3600.0\n"
     ]
    }
   ],
   "source": [
    "#Cut True Data\n",
    "#Taking measurements at intervals\n",
    "vals1=interval(df1,macrostep,microstep)\n"
   ]
  },
  {
   "cell_type": "code",
   "execution_count": 26,
   "metadata": {},
   "outputs": [
    {
     "name": "stdout",
     "output_type": "stream",
     "text": [
      "<class 'list'>\n",
      "Data has been saved to GenData/True/Cut/ToyModel6.json\n"
     ]
    }
   ],
   "source": [
    "print(type(vals1[0][2]))\n",
    "# Saving clean but cut data in JSON\n",
    "tojson(vals1,(\"GenData/True/Cut/\"+model_name+\".json\"))"
   ]
  },
  {
   "cell_type": "markdown",
   "metadata": {},
   "source": [
    "## Adding noise to data"
   ]
  },
  {
   "cell_type": "code",
   "execution_count": 27,
   "metadata": {},
   "outputs": [],
   "source": [
    "gaussian_noise = np.random.normal(mu, sigma, len(df1))\n",
    "df1_noised=df1.copy()\n",
    "genNoiseData(df1_noised,gaussian_noise)"
   ]
  },
  {
   "cell_type": "markdown",
   "metadata": {},
   "source": [
    "## Noised Full Data"
   ]
  },
  {
   "cell_type": "code",
   "execution_count": 28,
   "metadata": {},
   "outputs": [],
   "source": [
    "df1_noised.to_csv((\"GenData/Noised/Full/\"+model_name+\".csv\"), index=False)"
   ]
  },
  {
   "cell_type": "markdown",
   "metadata": {},
   "source": [
    "## Noised Cut Data"
   ]
  },
  {
   "cell_type": "code",
   "execution_count": 29,
   "metadata": {},
   "outputs": [
    {
     "name": "stdout",
     "output_type": "stream",
     "text": [
      "index  0.0\n",
      "index  300.0\n",
      "index  600.0\n",
      "index  900.0\n",
      "index  1200.0\n",
      "index  1500.0\n",
      "index  1800.0\n",
      "index  2100.0\n",
      "index  2400.0\n",
      "index  2700.0\n",
      "index  3000.0\n",
      "index  3300.0\n",
      "index  3600.0\n",
      "Data has been saved to GenData/Noised/Cut/ToyModel6.json\n"
     ]
    }
   ],
   "source": [
    "#Taking measurements\n",
    "vals1=interval(df1_noised,macrostep,microstep)\n",
    "# Saving noised cut data in JSON\n",
    "tojson(vals1,(\"GenData/Noised/Cut/\"+model_name+\".json\"))\n"
   ]
  }
 ],
 "metadata": {
  "kernelspec": {
   "display_name": "Python 3",
   "language": "python",
   "name": "python3"
  },
  "language_info": {
   "codemirror_mode": {
    "name": "ipython",
    "version": 3
   },
   "file_extension": ".py",
   "mimetype": "text/x-python",
   "name": "python",
   "nbconvert_exporter": "python",
   "pygments_lexer": "ipython3",
   "version": "3.9.4"
  }
 },
 "nbformat": 4,
 "nbformat_minor": 2
}
